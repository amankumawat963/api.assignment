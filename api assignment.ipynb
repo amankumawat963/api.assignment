{
 "cells": [
  {
   "cell_type": "code",
   "execution_count": 2,
   "id": "ed2388d9-11ba-4570-a595-77373bdb1f9d",
   "metadata": {},
   "outputs": [],
   "source": [
    "#Q1. APIs are used by web applications to link functionality and data on the back end with the user-facing front end.\n",
    "#APIs are used to deliver content by streaming services like Spotify and Netflix. APIs are used to provide software updates by automakers like Tesla.\n",
    "\n",
    "#example \n",
    "#Pay with PayPal\n",
    "#Google Maps"
   ]
  },
  {
   "cell_type": "code",
   "execution_count": 4,
   "id": "1f499f07-56e2-460f-b813-e02cbe67ded8",
   "metadata": {},
   "outputs": [],
   "source": [
    "#Q2. \n",
    "# Advantage\n",
    "#1.Increased Interoperability: API solutions enable different software systems to communicate with each other, regardless of their programming language or platform. This enhances the interoperability between systems, allowing for the exchange of data and functionality.\n",
    "#2.Improved Efficiency: API driven infrastructures enable developers to reuse code and functionality from existing software systems, saving time and reducing the amount of code that needs to be written from scratch.\n",
    "#3.Better User Experience: APIs can enable third-party developers to create applications that integrate with existing software systems, providing a better user experience and increased functionality.\n",
    "#4.Increased Flexibility: APIs provide developers with greater flexibility, enabling them to choose the best programming languages and frameworks for their needs.\n",
    "\n",
    "# Disadvantage\n",
    "#1.Security Concerns: API infrastructures can be vulnerable to security breaches, such as SQL injection attacks and cross-site scripting (XSS) attacks, making it crucial to implement security measures to protect against these threats.\n",
    "#2.Complexity: APIs can be complex, requiring a significant amount of development effort to implement and maintain.\n",
    "#3.Compatibility Issues: APIs can have compatibility issues between different versions of the same software system or between different systems, which can lead to errors and system failures.\n",
    "#4.Dependency on Third-Party Developers: APIs rely on third-party developers to create applications that integrate with the software system. This can create dependencies that are outside of the control of the company that owns the software system."
   ]
  },
  {
   "cell_type": "code",
   "execution_count": 5,
   "id": "33b0e09a-5111-4ce9-89f1-3cce914ca1d1",
   "metadata": {},
   "outputs": [],
   "source": [
    "#Q3. A web API is an application programming interface for either a web server or a web browser. As a web development concept, it can be related to a web application's client side.\n",
    "# WEB API\n",
    "#1. All web services are APIs.\n",
    "#2. It supports XML\n",
    "#3.You need a SOAP protocol to send or receive and data over the network. Therefore it does not have light-weight architecture.\n",
    "#4. it can be used by any client who understands XML.\n",
    "#5. Web service uses three styles: REST, SOAP, and XML-RPC for communication.\n",
    "#6. It provides supports only for the HTTP protocol.\n",
    "## API\n",
    "#1. All APIs are not web services.\n",
    "#2. Responses are formatted using Web API’s MediaTypeFormatter into XML, JSON, or any other given format.\n",
    "#3. API has a light-weight architecture.\n",
    "#4. It can be used by a client who understands JSON or XML.\n",
    "#5. API can be used for any style of communication.\n",
    "#6. It provides support for the HTTP/s protocol: URL Request/Response Headers, etc.\n",
    "\n"
   ]
  },
  {
   "cell_type": "code",
   "execution_count": 8,
   "id": "cc63b803-26a1-403c-b4ce-ce39180d60d8",
   "metadata": {},
   "outputs": [],
   "source": [
    "#Q4. REST is a set of architectural principles attuned to the needs of lightweight web services and mobile applications. Because it's a set of guidelines, it leaves the implementation of these recommendations to developers.\n",
    "#When a request for data is sent to a REST API, it’s usually done through hypertext transfer protocol (commonly referred to as HTTP). Once a request is received, APIs designed for REST (called RESTful APIs or RESTful web services) can return messages in a variety of formats: HTML, XML, plain text, and JSON. JSON (JavaScript object notation) is favored as a message format because it can be read by any programming language (despite the name), is human- and machine-readable, and is lightweight. In this way, RESTful APIs are more flexible and can be easier to set up.\n",
    "#An application is said to be RESTful if it follows 6 architectural guidelines. A RESTful application must have:\n",
    "#1. A client-server architecture composed of clients, servers, and resources.\n",
    "#2. Stateless client-server communication, meaning no client content is stored on the server between requests. Information about the session’s state is instead held with the client.\n",
    "#3. Cacheable data to eliminate the need for some client-server interactions.\n",
    "#4. A uniform interface between components so that information is transferred in a standardized form instead of specific to an application’s needs. This is described by Roy Fielding, the originator of REST, as “the central feature that distinguishes the REST architectural style from other network-based styles.”\n",
    "#5. A layered system constraint, where client-server interactions can be mediated by hierarchical layers.\n",
    "#6. Code on demand, allowing servers to extend the functionality of a client by transferring executable code (though also reducing visibility, making this an optional guideline).\n",
    "\n",
    "#SOAP is a standard protocol that was first designed so that applications built with different languages and on different platforms could communicate. Because it is a protocol, it imposes built-in rules that increase its complexity and overhead, which can lead to longer page load times. However, these standards also offer built-in compliances that can make it preferable for enterprise scenarios. The built-in compliance standards include security, atomicity, consistency, isolation, and durability (ACID), which is a set of properties for ensuring reliable database transactions.\n"
   ]
  },
  {
   "cell_type": "code",
   "execution_count": null,
   "id": "627a091a-0842-4500-a467-ff56b1d4a1e3",
   "metadata": {},
   "outputs": [],
   "source": [
    "#Q5. \n",
    "#Soap\n",
    "# 1. SOAP stands for Simple Object Access Protocol\n",
    "#2. SOAP is a protocol. SOAP was designed with a specification. It includes a WSDL file which has the required information on what the web service does in addition to the location of the web service.\n",
    "#3. SOAP cannot make use of REST since SOAP is a protocol and REST is an architectural pattern.\n",
    "#4. SOAP uses service interfaces to expose its functionality to client applications. In SOAP, the WSDL file provides the client with the necessary information which can be used to understand what services the web service can offer.\n",
    "#5. SOAP requires more bandwidth for its usage. Since SOAP Messages contain a lot of information inside of it, the amount of data transfer using SOAP is generally a lot.\n",
    "\n",
    "# REST\n",
    "#1. REST stands for Representational State Transfer\n",
    "#2. REST is an Architectural style in which a web service can only be treated as a RESTful service if it follows the constraints of being\n",
    "#a Client Server\n",
    "#b Stateless\n",
    "#c Cacheable\n",
    "#d Layered System\n",
    "#e Uniform Interface\n",
    "#3. REST can make use of SOAP as the underlying protocol for web services, because in the end it is just an architectural pattern.\n",
    "#4. REST use Uniform Service locators to access to the components on the hardware device. For example, if there is an object which represents the data of an employee hosted on a URL\n"
   ]
  }
 ],
 "metadata": {
  "kernelspec": {
   "display_name": "Python 3 (ipykernel)",
   "language": "python",
   "name": "python3"
  },
  "language_info": {
   "codemirror_mode": {
    "name": "ipython",
    "version": 3
   },
   "file_extension": ".py",
   "mimetype": "text/x-python",
   "name": "python",
   "nbconvert_exporter": "python",
   "pygments_lexer": "ipython3",
   "version": "3.10.8"
  }
 },
 "nbformat": 4,
 "nbformat_minor": 5
}
